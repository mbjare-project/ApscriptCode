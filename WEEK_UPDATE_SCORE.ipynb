from __future__ import print_function
from google.oauth2.service_account import Credentials
import pandas as pd
import numpy as np
import google.auth
from googleapiclient.discovery import build
from googleapiclient.errors import HttpError
from google.oauth2 import service_account
SCOPES = ['https://www.googleapis.com/auth/spreadsheets']
SERVICE_ACCOUNT_FILE = 'rsa_new_secret_key.json' // your secret key 
from datetime import *
print("wait")
creds = None
creds = service_account.Credentials.from_service_account_file(SERVICE_ACCOUNT_FILE, scopes=SCOPES)
print("20% completed")
service = build('sheets', 'v4', credentials=creds, static_discovery=False)
sheet = service.spreadsheets()
print("success")

spreadsheet_id= 'your-spreadsheetid'
result = service.spreadsheets().values().get(spreadsheetId=spreadsheet_id, range="'your-spreadsheet-rang").execute() // range like: SCORES'!D2:L
rows = result.get('values', [])
Finaldf= pd.DataFrame({})
for n in range(len(rows)):
    D_spreadsheet_id = rows[n][0]
    weekstartdate = rows[n][4]
    t_to = "to"
    weekenddate=rows[n][5]
    dest_range1 = rows[n][6]
    data = {'weekstartdate': [weekstartdate],
        't_to': [t_to],
        'weekenddate': [weekenddate]}

    df= pd.DataFrame(data)
    r_data= df.values.tolist()
    print(n)
    try:
      result = sheet.values().update(spreadsheetId= D_spreadsheet_id, range= dest_range1, valueInputOption="USER_ENTERED", body={"values":r_data}).execute()
    except Exception as e:
      print(str(e), D_spreadsheet_id)
